{
  "nbformat": 4,
  "nbformat_minor": 0,
  "metadata": {
    "colab": {
      "private_outputs": true,
      "provenance": []
    },
    "kernelspec": {
      "name": "python3",
      "display_name": "Python 3"
    },
    "language_info": {
      "name": "python"
    }
  },
  "cells": [
    {
      "cell_type": "markdown",
      "source": [
        "# MSINTERFACE Data Science Internship Task 2\n",
        "## Task : Unemployement Analysis with Python\n",
        "### Name: Mahima Nair"
      ],
      "metadata": {
        "id": "pDH66uFyEDyT"
      }
    },
    {
      "cell_type": "markdown",
      "source": [
        "#### Notebook Setup"
      ],
      "metadata": {
        "id": "MGns0onlEUS6"
      }
    },
    {
      "cell_type": "code",
      "source": [
        "import pandas as pd\n",
        "import numpy as np\n",
        "import matplotlib.pyplot as plt\n",
        "import plotly.figure_factory as ff\n",
        "import plotly.graph_objects as go\n",
        "import seaborn as sns\n",
        "import plotly .express as px\n",
        "%matplotlib inline\n",
        "import datetime as dt\n",
        "import calendar\n"
      ],
      "metadata": {
        "id": "bm181f1OERqr"
      },
      "execution_count": null,
      "outputs": []
    },
    {
      "cell_type": "markdown",
      "source": [
        "Data import"
      ],
      "metadata": {
        "id": "Te4sX9fu5EHK"
      }
    },
    {
      "cell_type": "code",
      "source": [
        "df = pd.read_csv('/content/sample_data/Unemployment in India.csv')\n",
        "df2 = pd.read_csv('/content/sample_data/Unemployment_Rate_upto_11_2020.csv')"
      ],
      "metadata": {
        "id": "tBKxvjrcGPI9"
      },
      "execution_count": null,
      "outputs": []
    },
    {
      "cell_type": "code",
      "source": [
        "df.head()"
      ],
      "metadata": {
        "id": "dy86opHDQrUp"
      },
      "execution_count": null,
      "outputs": []
    },
    {
      "cell_type": "code",
      "source": [
        "df2.head()"
      ],
      "metadata": {
        "id": "gk0QNtUTQtTq"
      },
      "execution_count": null,
      "outputs": []
    },
    {
      "cell_type": "markdown",
      "source": [
        "### Knowledge Base\n",
        "\n",
        "Estimated Labor Participation Rate % --> Denotes the proportion of working age population that is either employed or actively seeking employement <br>\n",
        "\n",
        "Labor Participation Rate % --> (Labor Force / Working-age-population) x 100 <br>\n",
        "Labor force == employed/seeking employement individuals<br>\n",
        "\n",
        "Estimated employed --> count of employed people <br>\n",
        "Unemployment Rate = (No of unemployed/Labor force) x100<br>\n"
      ],
      "metadata": {
        "id": "EIqZEjn5RRUd"
      }
    },
    {
      "cell_type": "markdown",
      "source": [
        "### Data Cleaning"
      ],
      "metadata": {
        "id": "9wavSPBr5Uyu"
      }
    },
    {
      "cell_type": "code",
      "source": [
        "df.describe()"
      ],
      "metadata": {
        "id": "X-usy4EWGXah"
      },
      "execution_count": null,
      "outputs": []
    },
    {
      "cell_type": "code",
      "source": [
        "df2.describe()"
      ],
      "metadata": {
        "id": "qXPJmaNUGqzX"
      },
      "execution_count": null,
      "outputs": []
    },
    {
      "cell_type": "markdown",
      "source": [
        "Checking for Null values"
      ],
      "metadata": {
        "id": "l19a9vYOS7hp"
      }
    },
    {
      "cell_type": "code",
      "source": [
        "df.isnull().sum()"
      ],
      "metadata": {
        "id": "HXzzO_zuGvxV"
      },
      "execution_count": null,
      "outputs": []
    },
    {
      "cell_type": "code",
      "source": [
        "df2.isnull().sum()"
      ],
      "metadata": {
        "id": "rOu86h64Q6MB"
      },
      "execution_count": null,
      "outputs": []
    },
    {
      "cell_type": "code",
      "source": [
        "df['Area'].unique()"
      ],
      "metadata": {
        "id": "MjYwaN7SRQHu"
      },
      "execution_count": null,
      "outputs": []
    },
    {
      "cell_type": "code",
      "source": [
        "df.shape"
      ],
      "metadata": {
        "id": "6Qrehp4sSkKO"
      },
      "execution_count": null,
      "outputs": []
    },
    {
      "cell_type": "code",
      "source": [
        "df2.shape"
      ],
      "metadata": {
        "id": "x2Zc1Go8Sj2A"
      },
      "execution_count": null,
      "outputs": []
    },
    {
      "cell_type": "code",
      "source": [
        "df.duplicated().sum()"
      ],
      "metadata": {
        "id": "d_GJmlCrSjXl"
      },
      "execution_count": null,
      "outputs": []
    },
    {
      "cell_type": "code",
      "source": [
        "df.drop_duplicates(inplace=True)"
      ],
      "metadata": {
        "id": "eEhQZqomTSai"
      },
      "execution_count": null,
      "outputs": []
    },
    {
      "cell_type": "code",
      "source": [
        "df.duplicated().sum()"
      ],
      "metadata": {
        "id": "wT79H_dITWRZ"
      },
      "execution_count": null,
      "outputs": []
    },
    {
      "cell_type": "code",
      "source": [
        "df2.duplicated().sum()"
      ],
      "metadata": {
        "id": "KnVK8cm-Sim0"
      },
      "execution_count": null,
      "outputs": []
    },
    {
      "cell_type": "code",
      "source": [
        "# Renaming the columns\n",
        "df.columns = ['State','Date','Frequency','Estimated Unemployement Rate','Estimated Employed','Estimated Labor Participation Rate', 'Area']"
      ],
      "metadata": {
        "id": "wErGgRgnTpS_"
      },
      "execution_count": null,
      "outputs": []
    },
    {
      "cell_type": "code",
      "source": [
        "# Renaming the columns\n",
        "df2.columns = ['State','Date','Frequency','Estimated Unemployement Rate','Estimated Employed','Estimated Labor Participation Rate', 'Region','Longitude','Latitude']"
      ],
      "metadata": {
        "id": "CEnEb0wGTo-n"
      },
      "execution_count": null,
      "outputs": []
    },
    {
      "cell_type": "code",
      "source": [
        "df.columns"
      ],
      "metadata": {
        "id": "C4cFhJceTofj"
      },
      "execution_count": null,
      "outputs": []
    },
    {
      "cell_type": "code",
      "source": [
        "df.head(2)\n"
      ],
      "metadata": {
        "id": "9yRpa6J_Uufp"
      },
      "execution_count": null,
      "outputs": []
    },
    {
      "cell_type": "code",
      "source": [
        "df2.columns"
      ],
      "metadata": {
        "id": "mryXbtx4UpTC"
      },
      "execution_count": null,
      "outputs": []
    },
    {
      "cell_type": "code",
      "source": [
        "df2.head(2)"
      ],
      "metadata": {
        "id": "Q1h4HDxLUyZT"
      },
      "execution_count": null,
      "outputs": []
    },
    {
      "cell_type": "code",
      "source": [
        "df['State'].value_counts()"
      ],
      "metadata": {
        "id": "ekzmoMm-U27Q"
      },
      "execution_count": null,
      "outputs": []
    },
    {
      "cell_type": "code",
      "source": [
        "df['Date'] = pd.to_datetime(df['Date'],dayfirst=True)\n",
        "df['month_int'] = df['Date'].dt.month\n"
      ],
      "metadata": {
        "id": "ZPJkZ8I5_I-F"
      },
      "execution_count": null,
      "outputs": []
    },
    {
      "cell_type": "code",
      "source": [
        "df.isnull().sum()"
      ],
      "metadata": {
        "id": "0AVlKJXW_whb"
      },
      "execution_count": null,
      "outputs": []
    },
    {
      "cell_type": "code",
      "source": [
        "df.dropna(inplace=True)"
      ],
      "metadata": {
        "id": "C6CAuKGVAWcK"
      },
      "execution_count": null,
      "outputs": []
    },
    {
      "cell_type": "code",
      "source": [
        "df.shape"
      ],
      "metadata": {
        "id": "caMK3itxAZTQ"
      },
      "execution_count": null,
      "outputs": []
    },
    {
      "cell_type": "code",
      "source": [
        "df['month_int'] = df['month_int'].astype(int)\n",
        "df['month'] = df['month_int'].apply(lambda x: calendar.month_abbr[x])"
      ],
      "metadata": {
        "id": "DBUVWajBBQ6j"
      },
      "execution_count": null,
      "outputs": []
    },
    {
      "cell_type": "code",
      "source": [
        "df.drop(columns=['Frequency','month_int'])"
      ],
      "metadata": {
        "id": "Luxr_T84BXf-"
      },
      "execution_count": null,
      "outputs": []
    },
    {
      "cell_type": "markdown",
      "source": [
        "### Data Analysis"
      ],
      "metadata": {
        "id": "Z3l4dCTr-_1V"
      }
    },
    {
      "cell_type": "code",
      "source": [
        "# State with highest unemployement\n",
        "df['State'].value_counts().idxmax()"
      ],
      "metadata": {
        "id": "vPf384OEHtIl"
      },
      "execution_count": null,
      "outputs": []
    },
    {
      "cell_type": "code",
      "source": [
        "# State with lowest unemployement\n",
        "df['State'].value_counts().idxmin()"
      ],
      "metadata": {
        "id": "hSjDV9Zd5S6p"
      },
      "execution_count": null,
      "outputs": []
    },
    {
      "cell_type": "code",
      "source": [
        "#Top 10 states with highest unemployement\n",
        "\n",
        "df1 = df[['State','Estimated Unemployement Rate']].groupby('State').sum().sort_values('Estimated Unemployement Rate', ascending=False)"
      ],
      "metadata": {
        "id": "1twPMdatCBOk"
      },
      "execution_count": null,
      "outputs": []
    },
    {
      "cell_type": "code",
      "source": [
        "df1.head()"
      ],
      "metadata": {
        "id": "AJCdlA3xDBMC"
      },
      "execution_count": null,
      "outputs": []
    },
    {
      "cell_type": "code",
      "source": [
        "# month with highest unemployement\n",
        "df3 = df[['month','Estimated Unemployement Rate']].groupby('month').sum().sort_values(by='Estimated Unemployement Rate',ascending=False)\n",
        "df3.head(10)"
      ],
      "metadata": {
        "id": "iA2swbA9D2bS"
      },
      "execution_count": null,
      "outputs": []
    },
    {
      "cell_type": "code",
      "source": [
        "#State-wise Estimated Employed\n",
        "df4= df[['State','Estimated Employed']].groupby('State').sum().sort_values('Estimated Employed',ascending=False)\n",
        "df4.head()"
      ],
      "metadata": {
        "id": "vAXS4yOqMPIT"
      },
      "execution_count": null,
      "outputs": []
    },
    {
      "cell_type": "code",
      "source": [
        "# Estimated Unemployment Rate State wise\n",
        "df4_a = df[['State','Estimated Unemployement Rate']].groupby('State').sum().sort_values('Estimated Unemployement Rate', ascending=False)\n",
        "df4_a"
      ],
      "metadata": {
        "id": "CzFz1wBANYwf"
      },
      "execution_count": null,
      "outputs": []
    },
    {
      "cell_type": "code",
      "source": [
        "#state-wise estimated employed\n",
        "df5 = df[['State','Estimated Employed']].groupby('State').sum().sort_values('Estimated Employed', ascending=False)\n",
        "df5.head()\n"
      ],
      "metadata": {
        "id": "U3YQ8GHKRgNF"
      },
      "execution_count": null,
      "outputs": []
    },
    {
      "cell_type": "markdown",
      "source": [
        "### Data Visualization\n",
        "\n",
        "\n",
        "\n"
      ],
      "metadata": {
        "id": "XMWKN3po5qFz"
      }
    },
    {
      "cell_type": "code",
      "source": [
        "# Visualisation\n",
        "\n",
        "fig = plt.figure()\n",
        "ax0 = fig.add_subplot(1,2,1)\n",
        "df1[:10].plot(kind='bar',color='blue',figsize=(15,3),ax=ax0)\n",
        "ax0.set_title(\"Top 10 states with highest unemployment\")\n",
        "ax0.set_xlabel('State')\n",
        "ax0.set_ylabel('Number of people unemployed %')"
      ],
      "metadata": {
        "id": "0YDYZ71ODFNS"
      },
      "execution_count": null,
      "outputs": []
    },
    {
      "cell_type": "code",
      "source": [
        "# Visualisation\n",
        "\n",
        "fig = plt.figure()\n",
        "ax0 = fig.add_subplot(1,2,1)\n",
        "df3[:10].plot(kind='bar',color='pink',figsize=(15,4),ax=ax0)\n",
        "ax0.set_title(\"Top 10 months with highest unemployment\")\n",
        "ax0.set_xlabel('months')\n",
        "ax0.set_ylabel('Number of people unemployed %')"
      ],
      "metadata": {
        "id": "vfyXpyH1EwhP"
      },
      "execution_count": null,
      "outputs": []
    },
    {
      "cell_type": "code",
      "source": [
        "plt.title('Indian Employement Rate region wise')\n",
        "sns.histplot(x=\"Estimated Employed\",hue='Region',data=df2)\n",
        "plt.show()"
      ],
      "metadata": {
        "id": "rJuHAZudWxLz"
      },
      "execution_count": null,
      "outputs": []
    },
    {
      "cell_type": "code",
      "source": [
        "plt.title('Indian Unemployement Rate region wise')\n",
        "sns.histplot(x=\"Estimated Unemployement Rate\",hue='Region',data=df2)\n",
        "plt.show()"
      ],
      "metadata": {
        "id": "4GSKnsfhXg2Z"
      },
      "execution_count": null,
      "outputs": []
    },
    {
      "cell_type": "code",
      "source": [
        "fig = px.box(df2, x='Region', y='Estimated Unemployement Rate',color='Region',\n",
        "             title='Unemployment Rate(statewise) by box plot', template='plotly')\n",
        "fig.update_layout(xaxis={'categoryorder':'total descending'})\n",
        "fig.show()"
      ],
      "metadata": {
        "id": "myTxsiYWZrBq"
      },
      "execution_count": null,
      "outputs": []
    },
    {
      "cell_type": "code",
      "source": [
        "# Visualize labor participation rate and unemployement rate in each month\n",
        "df_EEE = df.groupby(['month'])[['Estimated Unemployement Rate','Estimated Labor Participation Rate']].mean()\n",
        "df_EEE = pd.DataFrame(df_EEE).reset_index()\n",
        "month = df_EEE.month\n",
        "unemployment_rate = df_EEE['Estimated Unemployement Rate']\n",
        "labor_part_rate = df_EEE['Estimated Labor Participation Rate']\n",
        "\n",
        "fig = go.Figure() #To create interactive plots\n",
        "fig.add_trace(go.Bar(x= month, y=unemployment_rate, name ='Unemployment Rate'))\n",
        "fig.add_trace(go.Bar(x= month, y=labor_part_rate, name ='Labor Participation rate'))\n",
        "\n",
        "fig.update_layout(title='Unemployment Rate and Labor Participation Rate', xaxis={'categoryorder':'array','categoryarray':['Jan','Feb','Mar','Apr','May','Jun','Jul','Aug','Sep','Oct','Nov','Dec']})\n",
        "fig.show()\n"
      ],
      "metadata": {
        "id": "oovT-gipFFTt"
      },
      "execution_count": null,
      "outputs": []
    },
    {
      "cell_type": "code",
      "source": [
        "#Visualization\n",
        "fig = plt.figure()\n",
        "ax1 = fig.add_subplot(1,2,2)\n",
        "df4[:10].plot(kind='bar',color='green',figsize=(15,3),ax=ax1)\n",
        "ax1.set_title(\"Estimated Employed people in each state\")\n",
        "ax1.set_xlabel('State')\n",
        "ax1.set_ylabel('Number of people employed %')"
      ],
      "metadata": {
        "id": "A3RGs7-qMwJp"
      },
      "execution_count": null,
      "outputs": []
    },
    {
      "cell_type": "code",
      "source": [
        "#Visualisation\n",
        "fig = plt.figure()\n",
        "ax1 = fig.add_subplot(1,2,2)\n",
        "df4_a[:10].plot(kind='bar',color='yellow',figsize=(15,3),ax=ax1)\n",
        "ax1.set_title(\"Estimated Unemployment Rate in each state\")\n",
        "ax1.set_xlabel('State')\n",
        "ax1.set_ylabel('Estimated Unemployment Rate %')"
      ],
      "metadata": {
        "id": "lDKtrkETNzgV"
      },
      "execution_count": null,
      "outputs": []
    },
    {
      "cell_type": "code",
      "source": [
        "#Visualisation\n",
        "fig = plt.figure()\n",
        "ax1 = fig.add_subplot(1,2,2)\n",
        "df5[:10].plot(kind='bar',color='purple',figsize=(15,4),ax=ax1)\n",
        "ax1.set_title(\"Estimated Employed in each state\")\n",
        "ax1.set_xlabel('State')\n",
        "ax1.set_ylabel('Estimated Employed Rate %')"
      ],
      "metadata": {
        "id": "lHm27EevSha9"
      },
      "execution_count": null,
      "outputs": []
    },
    {
      "cell_type": "code",
      "source": [
        "#month wise estimated employed\n",
        "df6 = df[['month','Estimated Employed']].groupby('month').sum().sort_values('Estimated Employed', ascending=False)\n",
        "\n",
        "#Visualisation\n",
        "fig = plt.figure()\n",
        "ax1 = fig.add_subplot(1,2,2)\n",
        "df6[:10].plot(kind='bar',color='orange',figsize=(15,4),ax=ax1)\n",
        "ax1.set_title(\"Estimated Employed in each month\")\n",
        "ax1.set_xlabel('Month')\n",
        "ax1.set_ylabel('No. of people employed')"
      ],
      "metadata": {
        "id": "xOOndexcSor0"
      },
      "execution_count": null,
      "outputs": []
    },
    {
      "cell_type": "code",
      "source": [
        "#plotting a sunburst\n",
        "unemployment = df2[['State','Region','Estimated Unemployement Rate']]\n",
        "figure = px.sunburst(unemployment, path =['Region','State'],\n",
        "                      values = 'Estimated Unemployement Rate',\n",
        "                      width=700,height=600,color_continuous_scale=\"RdY1Gn\",\n",
        "                      title='Unemployment Rate in India')\n",
        "figure.show()"
      ],
      "metadata": {
        "id": "RlaMOeSeXvnp"
      },
      "execution_count": null,
      "outputs": []
    },
    {
      "cell_type": "code",
      "source": [
        "#barplot unemployment rate monthly\n",
        "\n",
        "# Plotly Express bar plot\n",
        "fig = px.bar(df, x='State', y='Estimated Unemployement Rate', animation_frame='month', color='State',\n",
        "             title='Unemployment Rate by State (Monthly)')\n",
        "fig.update_layout(xaxis={'categoryorder':'total descending'})\n",
        "fig.layout.updatemenus[0].buttons[0].args[1]['frame']['duration'] = 2000\n",
        "fig.show()"
      ],
      "metadata": {
        "id": "9rO__z7oTZ4u"
      },
      "execution_count": null,
      "outputs": []
    },
    {
      "cell_type": "code",
      "source": [],
      "metadata": {
        "id": "rBq8bOaRUhdi"
      },
      "execution_count": null,
      "outputs": []
    }
  ]
}